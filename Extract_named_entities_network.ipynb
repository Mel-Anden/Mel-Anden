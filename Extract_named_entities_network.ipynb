{
  "nbformat": 4,
  "nbformat_minor": 0,
  "metadata": {
    "colab": {
      "private_outputs": true,
      "provenance": [],
      "include_colab_link": true
    },
    "kernelspec": {
      "name": "python3",
      "display_name": "Python 3"
    },
    "language_info": {
      "name": "python"
    }
  },
  "cells": [
    {
      "cell_type": "markdown",
      "metadata": {
        "id": "view-in-github",
        "colab_type": "text"
      },
      "source": [
        "<a href=\"https://colab.research.google.com/github/Mel-Anden/Mel-Anden/blob/main/Extract_named_entities_network.ipynb\" target=\"_parent\"><img src=\"https://colab.research.google.com/assets/colab-badge.svg\" alt=\"Open In Colab\"/></a>"
      ]
    },
    {
      "cell_type": "markdown",
      "source": [
        "# Extract Named Entities Network from Actor Statements\n",
        "\n",
        "*DTU - Explore the controversy about Energy Island*\n",
        "\n",
        "**Goal**:\n",
        "- Extract [named entities](https://en.wikipedia.org/wiki/Named-entity_recognition) from the list of statements\n",
        "- Build a co-occurrence network (entities linked when they appear often in the same statements)\n",
        "- Visualize the network\n",
        "\n",
        "**Purpose**: useful to identify important markers (persons, places, events...) that can be reused in queries to find more documents related to the same controversy.\n",
        "\n",
        "**How to use**:\n",
        "- Edit settings then use \"Runtime > Run all\"\n",
        "- Wait for each cell to run\n",
        "- ⚠️ You may have to restart the runtime when installing libraries\n",
        "- ⚠️ Allow the script to access your Google Drive data when prompted to\n",
        "- To read the last visualization properly, you need to run the layout (\"Play\" button on the left of the widget)"
      ],
      "metadata": {
        "id": "gjHZJ6oWTxQJ"
      }
    },
    {
      "cell_type": "markdown",
      "source": [
        "## Settings"
      ],
      "metadata": {
        "id": "sfunsb6KVLwq"
      }
    },
    {
      "cell_type": "code",
      "source": [
        "# SETTINGS (edit if necessary)\n",
        "settings = {}\n",
        "settings['statements_spreadsheet_drive_URL'] = 'https://docs.google.com/spreadsheets/d/1c6U-tF4ZTi-csTkusGFaSclE2-gn3tvi0Xaj4Q8AKvk/edit?usp=sharing'\n",
        "settings['column_text'] = 'Restated version (the transformed actor statement)'\n",
        "settings['edge_weight_threshold'] = 0.5 # Keep only strong enough connections between entities (i.e., normalized positive PMI; range: [0,1])"
      ],
      "metadata": {
        "id": "9zLNzVyOUlwx"
      },
      "execution_count": null,
      "outputs": []
    },
    {
      "cell_type": "markdown",
      "source": [
        "## Code\n",
        "\n",
        "(You don't have to understand what's going on here, but feel free to take a look)"
      ],
      "metadata": {
        "id": "JquYW1YjVCwJ"
      }
    },
    {
      "cell_type": "markdown",
      "source": [
        "### Install stuff"
      ],
      "metadata": {
        "id": "8XwXM-E6Zjef"
      }
    },
    {
      "cell_type": "code",
      "source": [
        "# Install necessary libraries\n",
        "!pip install pandas==2.0.3 gspread==5.10.0 google-auth==2.22.0 google-auth-oauthlib==1.0.0 google-auth-httplib2==0.1.0\n",
        "!pip install -U spacy networkx ipysigma\n",
        "!python -m spacy download en_core_web_sm"
      ],
      "metadata": {
        "id": "Pc4swiM8VJlX"
      },
      "execution_count": null,
      "outputs": []
    },
    {
      "cell_type": "code",
      "source": [
        "# Import necessary libraries\n",
        "import pandas as pd\n",
        "import spacy\n",
        "nlp = spacy.load(\"en_core_web_sm\")\n",
        "\n",
        "from collections import defaultdict\n",
        "import math\n",
        "\n",
        "import networkx as nx\n",
        "\n",
        "from ipysigma import Sigma\n",
        "from google.colab import output\n",
        "output.enable_custom_widget_manager()\n",
        "\n",
        "from google.colab import auth\n",
        "auth.authenticate_user()\n",
        "\n",
        "import gspread\n",
        "from google.auth import default\n",
        "creds, _ = default()\n",
        "\n",
        "gc = gspread.authorize(creds)"
      ],
      "metadata": {
        "id": "5lwgdgKIVSxg"
      },
      "execution_count": null,
      "outputs": []
    },
    {
      "cell_type": "markdown",
      "source": [
        "### Load data from the spreadsheet"
      ],
      "metadata": {
        "id": "po50ZkgCZmE7"
      }
    },
    {
      "cell_type": "code",
      "source": [
        "# Open the spreadsheet by its key or URL\n",
        "spreadsheet_key = settings['statements_spreadsheet_drive_URL'].split('/d/')[1].split('/edit')[0]\n",
        "sh = gc.open_by_key(spreadsheet_key)\n",
        "\n",
        "# Select the worksheet\n",
        "worksheet_name = 'Form Responses'\n",
        "worksheet = sh.worksheet(worksheet_name)"
      ],
      "metadata": {
        "id": "-cdmch--Vcly"
      },
      "execution_count": null,
      "outputs": []
    },
    {
      "cell_type": "code",
      "source": [
        "# Get all values from the worksheet as a list of lists\n",
        "data = worksheet.get_all_values()\n",
        "\n",
        "# Create a Pandas DataFrame from the list of lists\n",
        "df = pd.DataFrame(data[1:], columns=data[0])\n",
        "\n",
        "# Display dataframe for monitoring purposes\n",
        "df"
      ],
      "metadata": {
        "id": "AazyPXBdZbdE"
      },
      "execution_count": null,
      "outputs": []
    },
    {
      "cell_type": "markdown",
      "source": [
        "### Extract named entities"
      ],
      "metadata": {
        "id": "Y9JacBQvZ-zH"
      }
    },
    {
      "cell_type": "code",
      "source": [
        "# Get text data\n",
        "textData = df[settings['column_text']]\n",
        "\n",
        "# Function to extract named entities\n",
        "def extract_entities(text):\n",
        "    doc = nlp(text)\n",
        "    return [ent.text for ent in doc.ents]\n",
        "\n",
        "# Create NetworkX graph\n",
        "graph = nx.Graph()\n",
        "\n",
        "# Create a dictionary to store entity frequencies\n",
        "entity_freq = defaultdict(int)\n",
        "\n",
        "# Create a dictionary to store co-occurrence frequencies\n",
        "co_occurrence_freq = defaultdict(int)\n",
        "\n",
        "# Process textData and update frequencies\n",
        "for text in textData:\n",
        "    entities = extract_entities(text)\n",
        "    for entity in entities:\n",
        "        entity_freq[entity] += 1\n",
        "    for i in range(len(entities)):\n",
        "        for j in range(i + 1, len(entities)):\n",
        "            co_occurrence_freq[(entities[i], entities[j])] += 1\n",
        "\n",
        "# Calculate total number of statements\n",
        "total_statements = len(textData)\n",
        "\n",
        "# Add edges to the graph with PMI as weight\n",
        "for (entity1, entity2), freq in co_occurrence_freq.items():\n",
        "    # Calculate PMI)\n",
        "    pmi = math.log2(\n",
        "        (freq / total_statements) /\n",
        "        ((entity_freq[entity1] / total_statements) * (entity_freq[entity2] / total_statements))\n",
        "    )\n",
        "    # Normalize PMI\n",
        "    npmi = pmi / -math.log2(freq / total_statements)\n",
        "    # Add edge with PMI as weight\n",
        "    if npmi>0 and npmi>settings['edge_weight_threshold']:\n",
        "      graph.add_edge(entity1, entity2, weight=npmi)\n",
        "\n",
        "# Print some information about the graph\n",
        "print(f\"Number of nodes: {graph.number_of_nodes()}\")\n",
        "print(f\"Number of edges: {graph.number_of_edges()}\")"
      ],
      "metadata": {
        "id": "lKB348tcZ3I2"
      },
      "execution_count": null,
      "outputs": []
    },
    {
      "cell_type": "code",
      "source": [
        "# Export the network\n",
        "nx.write_gexf(graph, \"named_entities.gexf\")"
      ],
      "metadata": {
        "id": "kzWdOMeAfozT"
      },
      "execution_count": null,
      "outputs": []
    },
    {
      "cell_type": "markdown",
      "source": [
        "### Visualize the network\n",
        "Note: push the PLAY button on the left part of the widget to run the layout and see the network's structure."
      ],
      "metadata": {
        "id": "cPYjEiogibLg"
      }
    },
    {
      "cell_type": "code",
      "source": [
        "# Visualize the network\n",
        "Sigma(graph, node_size=graph.degree, node_metrics={\"community\": \"louvain\"}, node_color=\"community\", layout_settings={'edgeWeightInfluence':0.666}, edge_weight=\"weight\")"
      ],
      "metadata": {
        "id": "gH05R4TZbpEP"
      },
      "execution_count": null,
      "outputs": []
    },
    {
      "cell_type": "code",
      "source": [],
      "metadata": {
        "id": "DiILUGrDodyx"
      },
      "execution_count": null,
      "outputs": []
    }
  ]
}